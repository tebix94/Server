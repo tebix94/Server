{
 "cells": [
  {
   "cell_type": "code",
   "execution_count": null,
   "id": "34614842",
   "metadata": {},
   "outputs": [],
   "source": [
    "from python_modules.kv_plc import *\n",
    "import time\n",
    "import random\n",
    "\n",
    "plc1 = kv_plc_tcp_socket('192.168.0.78', 8501, 3)\n",
    "\n",
    "device_state = False\n",
    "device_list = [0, 0, 0, 0, 0, 0, 0, 0, 0, 0]\n",
    "\n",
    "while True:\n",
    "    device_state ^= True\n",
    "\n",
    "    time.sleep(0.25)\n",
    "\n",
    "    for i in range(len(device_list)):\n",
    "        device_list[i] = random.randint(0, 10)\n",
    "\n",
    "    print(device_list)\n",
    "\n",
    "    try:\n",
    "        plc1.write('MR', 9000, device_state)\n",
    "        value = plc1.read('MR', 9001)\n",
    "        plc1.multi_write('DM', 9000, device_list)\n",
    "\n",
    "        print(value)\n",
    "\n",
    "    except Exception as e:\n",
    "        print(e)\n",
    "\n",
    "    time.sleep(0.25)"
   ]
  },
  {
   "cell_type": "code",
   "execution_count": null,
   "id": "51a14d40",
   "metadata": {},
   "outputs": [
    {
     "ename": "KeyboardInterrupt",
     "evalue": "",
     "output_type": "error",
     "traceback": [
      "\u001b[31m---------------------------------------------------------------------------\u001b[39m",
      "\u001b[31mKeyboardInterrupt\u001b[39m                         Traceback (most recent call last)",
      "\u001b[36mCell\u001b[39m\u001b[36m \u001b[39m\u001b[32mIn[20]\u001b[39m\u001b[32m, line 47\u001b[39m\n\u001b[32m     44\u001b[39m     \u001b[38;5;28mprint\u001b[39m(\u001b[33mf\u001b[39m\u001b[33m'\u001b[39m\u001b[38;5;132;01m{\u001b[39;00mnames\u001b[38;5;132;01m}\u001b[39;00m\u001b[33m: \u001b[39m\u001b[38;5;132;01m{\u001b[39;00mct\u001b[38;5;132;01m}\u001b[39;00m\u001b[33m seconds\u001b[39m\u001b[33m'\u001b[39m)\n\u001b[32m     46\u001b[39m clear_output(wait=\u001b[38;5;28;01mTrue\u001b[39;00m)\n\u001b[32m---> \u001b[39m\u001b[32m47\u001b[39m \u001b[43mtime\u001b[49m\u001b[43m.\u001b[49m\u001b[43msleep\u001b[49m\u001b[43m(\u001b[49m\u001b[32;43m0.25\u001b[39;49m\u001b[43m)\u001b[49m\n",
      "\u001b[31mKeyboardInterrupt\u001b[39m: "
     ]
    }
   ],
   "source": [
    "import time\n",
    "from IPython.display import clear_output\n",
    "from python_modules.kv_plc import *\n",
    "\n",
    "# Instance line 5 PLC's\n",
    "\n",
    "plc_names = ('Loading cable',\n",
    "             'Gasket assembly A',\n",
    "             'UV & Trim A',\n",
    "             'IMLA assembly A',\n",
    "             'IMLA welding A',\n",
    "             'Shield welding A',\n",
    "             'Gasket assembly B',\n",
    "             'UV & Trim B',\n",
    "             'IMLA assembly B',\n",
    "             'IMLA welding B',\n",
    "             'Shield welding B',\n",
    "             'Hipot and marking',\n",
    "             'Unloading'\n",
    "             )\n",
    "plc_l5 = []\n",
    "\n",
    "plc_l5.append(kv_plc_tcp_socket('192.168.0.18', 8501, 3)) \n",
    "plc_l5.append(kv_plc_tcp_socket('192.168.0.28', 8501, 3))\n",
    "plc_l5.append(kv_plc_tcp_socket('192.168.0.38', 8501, 3))\n",
    "plc_l5.append(kv_plc_tcp_socket('192.168.0.48', 8501, 3))\n",
    "plc_l5.append(kv_plc_tcp_socket('192.168.0.58', 8501, 3))\n",
    "plc_l5.append(kv_plc_tcp_socket('192.168.0.68', 8501, 3))\n",
    "plc_l5.append(kv_plc_tcp_socket('192.168.0.128', 8501, 3))\n",
    "plc_l5.append(kv_plc_tcp_socket('192.168.0.138', 8501, 3))\n",
    "plc_l5.append(kv_plc_tcp_socket('192.168.0.148', 8501, 3))\n",
    "plc_l5.append(kv_plc_tcp_socket('192.168.0.158', 8501, 3))\n",
    "plc_l5.append(kv_plc_tcp_socket('192.168.0.168', 8501, 3))\n",
    "plc_l5.append(kv_plc_tcp_socket('192.168.0.178', 8501, 3))\n",
    "plc_l5.append(kv_plc_tcp_socket('192.168.0.198', 8501, 3))\n",
    "\n",
    "# Initialize CT list\n",
    "\n",
    "ct_l5 = [0] * len(plc_l5)\n",
    "\n",
    "while True:\n",
    "    for names, plc, ct in zip(plc_names, plc_l5, ct_l5):\n",
    "        ct = float(plc.read('DM', '88')) / 10.\n",
    "        print(f'{names}: {ct} seconds')\n",
    "\n",
    "    clear_output(wait=True)\n",
    "    time.sleep(0.25)"
   ]
  }
 ],
 "metadata": {
  "kernelspec": {
   "display_name": "venv (3.13.5)",
   "language": "python",
   "name": "python3"
  },
  "language_info": {
   "codemirror_mode": {
    "name": "ipython",
    "version": 3
   },
   "file_extension": ".py",
   "mimetype": "text/x-python",
   "name": "python",
   "nbconvert_exporter": "python",
   "pygments_lexer": "ipython3",
   "version": "3.13.5"
  }
 },
 "nbformat": 4,
 "nbformat_minor": 5
}
